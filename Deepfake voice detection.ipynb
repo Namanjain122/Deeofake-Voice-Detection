{
 "cells": [
  {
   "cell_type": "code",
   "execution_count": 2,
   "id": "66efb07a-cebd-4e24-a10a-e8393b029609",
   "metadata": {},
   "outputs": [],
   "source": [
    "import numpy as np\n",
    "import pandas as pd\n",
    "import matplotlib.pyplot as plt\n",
    "import seaborn as sns\n",
    "import librosa\n",
    "import tensorflow as tf\n",
    "from sklearn.model_selection import train_test_split\n",
    "from sklearn.metrics import confusion_matrix, classification_report\n",
    "from tensorflow.keras.models import Sequential\n",
    "from tensorflow.keras.layers import LSTM, Dense, Dropout\n",
    "from tensorflow.keras.optimizers import Adam\n",
    "from tensorflow.keras.utils import to_categorical\n",
    "# import warnings\n",
    "# warnings.filterwarnings(\"ignore\")\n",
    "\n"
   ]
  },
  {
   "cell_type": "code",
   "execution_count": 3,
   "id": "35f1023d-afcb-4a56-83fd-86c7302879d3",
   "metadata": {},
   "outputs": [],
   "source": [
    "def load_and_preprocess_data(audio_path, label):\n",
    "    audio, sr = librosa.load(audio_path, sr=None)\n",
    "    mfccs = librosa.feature.mfcc(y=audio, sr=sr, n_mfcc=13)\n",
    "    return mfccs.T, label\n",
    "\n",
    "def prepare_dataset(real_paths, fake_paths):\n",
    "    X  = []\n",
    "    y  = []\n",
    "    for path in real_paths:\n",
    "        features, label = load_and_preprocess_data(path, 0)\n",
    "        X.append(features)\n",
    "        y.append(label)\n",
    "\n",
    "    for path in fake_paths:\n",
    "        features, label = load_and_preprocess_data(path, 1)\n",
    "        X.append(features)\n",
    "        y.append(label)\n",
    "\n",
    "    return X, np.array(y)"
   ]
  },
  {
   "cell_type": "code",
   "execution_count": 4,
   "id": "cb91161d-f009-40d3-96f0-2c6f018b9729",
   "metadata": {},
   "outputs": [],
   "source": [
    "def augment_data(X, y):\n",
    "    augmented_X = []\n",
    "    augmented_y = []\n",
    "    for features, label in zip(X, y):\n",
    "        augmented_X.append(features)\n",
    "        augmented_y.append(label)\n",
    "\n",
    "        # Time Stretching\n",
    "        audio_signal = librosa.effects.time_stretch(features.T[0], rate=0.8)\n",
    "        augmented_X.append(librosa.feature.mfcc(y=audio_signal, sr=22050, n_mfcc=13).T)\n",
    "        augmented_y.append(label)\n",
    "\n",
    "        # Pitch Shifting\n",
    "        audio_signal_shifted = librosa.effects.pitch_shift(features.T[0], sr=22050, n_steps=2)\n",
    "        augmented_X.append(librosa.feature.mfcc(y=audio_signal_shifted, sr=22050, n_mfcc=13).T)\n",
    "        augmented_y.append(label)\n",
    "\n",
    "    return augmented_X, np.array(augmented_y)"
   ]
  },
  {
   "cell_type": "code",
   "execution_count": 5,
   "id": "aca61898-0377-4164-8be9-e90c70eccfe3",
   "metadata": {},
   "outputs": [],
   "source": [
    "def create_model(input_shape):\n",
    "    model = Sequential([\n",
    "        Input(shape=input_shape),\n",
    "        Masking(mask_value=0.),\n",
    "        LSTM(64, return_sequences=True),\n",
    "        Dropout(0.2),\n",
    "        LSTM(32),\n",
    "        Dropout(0.2),\n",
    "        Dense(16, activation='relu'),\n",
    "        Dense(2, activation='softmax')\n",
    "    ])\n",
    "\n",
    "    model.compile(optimizer=Adam(learning_rate=0.001), loss='categorical_crossentropy', metrics=['accuracy'])\n",
    "    \n",
    "    return model"
   ]
  },
  {
   "cell_type": "code",
   "execution_count": 6,
   "id": "9372e1ab-0302-45d2-a81e-499619336f4f",
   "metadata": {},
   "outputs": [],
   "source": [
    "def train_and_evaluate(model, X_train, y_train, X_test, y_test, epochs=50, batch_size=32):\n",
    "    history = model.fit(X_train, y_train, epochs=epochs, batch_size=batch_size, validation_split=0.2, verbose=1)\n",
    "    \n",
    "    test_loss, test_acc = model.evaluate(X_test, y_test, verbose=0)\n",
    "    print(f\"Test accuracy: {test_acc:.4f}\")\n",
    "\n",
    "    return history"
   ]
  },
  {
   "cell_type": "code",
   "execution_count": 7,
   "id": "cbaafe3f-9c63-48de-8c46-5a3e20ec22c7",
   "metadata": {},
   "outputs": [],
   "source": [
    "def plot_training_history(history):\n",
    "    plt.figure(figsize=(12,4))\n",
    "\n",
    "    plt.subplot(1,2,1)\n",
    "    plt.plot(history.history['accuracy'], label='Training Accuracy')\n",
    "    plt.plot(history.history['val_accuracy'], label='Validation Accuracy')\n",
    "    plt.title('Model Accuracy')\n",
    "    plt.xlabel('Epoch')\n",
    "    plt.ylabel('Accuracy')\n",
    "    plt.legend()\n",
    "\n",
    "    plt.subplot(1,2,2)\n",
    "    plt.plot(history.history['loss'], label='Training Loss')\n",
    "    plt.plot(history.history['val_loss'], label='Validation Loss')\n",
    "    plt.title('Model Loss')\n",
    "    plt.xlabel('Epoch')\n",
    "    plt.ylabel('Loss')\n",
    "    plt.legend()\n",
    "\n",
    "    plt.tight_layout()\n",
    "    plt.show()\n"
   ]
  },
  {
   "cell_type": "code",
   "execution_count": 8,
   "id": "2548657c-5cce-444f-92ef-1fad6e8a50c2",
   "metadata": {},
   "outputs": [],
   "source": [
    "def plot_confusion_matrix(y_true, y_pred):\n",
    "    cm = confusion_matrix(y_true.argmax(axis=1), y_pred.argmax(axis=1))\n",
    "    plt.figure(figsize=(8,6))\n",
    "    sns.heatmap(cm, annot=True, fmt='d', cmap='Blues')\n",
    "    plt.title('Confusion Matrix')\n",
    "    plt.xlabel('Predicted')\n",
    "    plt.ylabel('True')\n",
    "    plt.show()"
   ]
  },
  {
   "cell_type": "code",
   "execution_count": 9,
   "id": "ebc1c733-3cae-4ac4-b5c0-cf5dca5c27a6",
   "metadata": {},
   "outputs": [],
   "source": [
    "import os"
   ]
  },
  {
   "cell_type": "code",
   "execution_count": 10,
   "id": "d467eb89-e646-40c5-9ce1-888480973009",
   "metadata": {},
   "outputs": [],
   "source": [
    " base_path = r'C:\\Users\\Naman jain\\Downloads\\archive\\KAGGLE\\AUDIO'"
   ]
  },
  {
   "cell_type": "code",
   "execution_count": 11,
   "id": "4e058a06-6a62-4883-9749-169b5edf79b7",
   "metadata": {},
   "outputs": [],
   "source": [
    "from tensorflow.keras.preprocessing.sequence import pad_sequences"
   ]
  },
  {
   "cell_type": "code",
   "execution_count": 12,
   "id": "326afca5-639a-4f28-8094-d0fbc3c2a8ef",
   "metadata": {},
   "outputs": [],
   "source": [
    "from tensorflow.keras.layers import Input, Masking"
   ]
  },
  {
   "cell_type": "code",
   "execution_count": null,
   "id": "1a1b0de6-8b65-4dd9-a7f6-f6920e990153",
   "metadata": {},
   "outputs": [],
   "source": [
    "real_paths = [os.path.join(base_path, \"REAL\", f) for f in os.listdir(os.path.join(base_path, \"REAL\")) if f.endswith('.wav')]\n",
    "fake_paths = [os.path.join(base_path, \"FAKE\", f) for f in os.listdir(os.path.join(base_path, \"FAKE\")) if f.endswith('.wav')]\n",
    "\n",
    "# Prepare Dataset\n",
    "X, y = prepare_dataset(real_paths, fake_paths)\n",
    "X_augmented, y_augmented = augment_data(X, y)\n",
    "\n",
    "# Pad Sequences\n",
    "max_length = max(len(seq) for seq in X_augmented)\n",
    "X_padded = pad_sequences(X_augmented, maxlen=max_length, dtype='float32', padding='post', truncating='post')\n",
    "\n",
    "# Train-Test Split\n",
    "X_train, X_test, y_train, y_test = train_test_split(X_padded, y_augmented, test_size=0.2, random_state=42)\n",
    "\n",
    "# Convert Labels to One-Hot Encoding\n",
    "y_train = to_categorical(y_train)\n",
    "y_test = to_categorical(y_test)\n",
    "\n",
    "# Build and Train Model\n",
    "model = create_model(input_shape=(X_train.shape[1], X_train.shape[2]))\n",
    "history = train_and_evaluate(model, X_train, y_train, X_test, y_test)\n",
    "\n",
    "# Plot Training History\n",
    "plot_training_history(history)\n",
    "\n",
    "# Make Predictions\n",
    "y_pred = model.predict(X_test)\n",
    "\n",
    "# Plot Confusion Matrix\n",
    "plot_confusion_matrix(y_test, y_pred)\n",
    "\n",
    "# Classification Report\n",
    "print(classification_report(y_test.argmax(axis=1), y_pred.argmax(axis=1)))"
   ]
  },
  {
   "cell_type": "code",
   "execution_count": null,
   "id": "1e0f8bbd-e50f-4650-8af0-257d97777e20",
   "metadata": {},
   "outputs": [],
   "source": [
    "print(\"hello\")"
   ]
  },
  {
   "cell_type": "code",
   "execution_count": null,
   "id": "4564ce88-7259-4555-9777-a45ee4d683ef",
   "metadata": {},
   "outputs": [],
   "source": []
  }
 ],
 "metadata": {
  "kernelspec": {
   "display_name": "Python [conda env:base] *",
   "language": "python",
   "name": "conda-base-py"
  },
  "language_info": {
   "codemirror_mode": {
    "name": "ipython",
    "version": 3
   },
   "file_extension": ".py",
   "mimetype": "text/x-python",
   "name": "python",
   "nbconvert_exporter": "python",
   "pygments_lexer": "ipython3",
   "version": "3.12.7"
  }
 },
 "nbformat": 4,
 "nbformat_minor": 5
}
